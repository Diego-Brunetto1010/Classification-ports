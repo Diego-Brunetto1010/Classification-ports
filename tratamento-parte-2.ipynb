{
 "cells": [
  {
   "cell_type": "code",
   "execution_count": 1,
   "id": "1decf63b",
   "metadata": {
    "_cell_guid": "b1076dfc-b9ad-4769-8c92-a6c4dae69d19",
    "_uuid": "8f2839f25d086af736a60e9eeb907d3b93b6e0e5",
    "execution": {
     "iopub.execute_input": "2024-05-04T00:46:15.643340Z",
     "iopub.status.busy": "2024-05-04T00:46:15.642920Z",
     "iopub.status.idle": "2024-05-04T00:46:17.533344Z",
     "shell.execute_reply": "2024-05-04T00:46:17.532169Z"
    },
    "papermill": {
     "duration": 1.902085,
     "end_time": "2024-05-04T00:46:17.536321",
     "exception": false,
     "start_time": "2024-05-04T00:46:15.634236",
     "status": "completed"
    },
    "tags": []
   },
   "outputs": [],
   "source": [
    "import pandas as pd\n",
    "\n",
    "\n",
    "\n",
    "tratamento2 = pd.read_csv('/kaggle/input/tratamento-02/tratamento1.csv', delimiter=',')"
   ]
  },
  {
   "cell_type": "code",
   "execution_count": 2,
   "id": "217d17d7",
   "metadata": {
    "execution": {
     "iopub.execute_input": "2024-05-04T00:46:17.550973Z",
     "iopub.status.busy": "2024-05-04T00:46:17.550526Z",
     "iopub.status.idle": "2024-05-04T00:46:17.701308Z",
     "shell.execute_reply": "2024-05-04T00:46:17.699858Z"
    },
    "papermill": {
     "duration": 0.16134,
     "end_time": "2024-05-04T00:46:17.704217",
     "exception": false,
     "start_time": "2024-05-04T00:46:17.542877",
     "status": "completed"
    },
    "tags": []
   },
   "outputs": [
    {
     "name": "stdout",
     "output_type": "stream",
     "text": [
      "Contagem de valores NaN por coluna:\n",
      "IDAtracacao                          0\n",
      "Tipo da Autoridade Portuária         0\n",
      "Data Atracação                       0\n",
      "Data Chegada                         0\n",
      "Data Desatracação                    0\n",
      "Data Início Operação                 1\n",
      "Data Término Operação                2\n",
      "Tipo de Operação                     0\n",
      "Tipo de Navegação da Atracação       0\n",
      "Terminal                             0\n",
      "Município                            0\n",
      "UF                                   0\n",
      "Origem                            1750\n",
      "Destino                           1750\n",
      "Tipo Operação da Carga               0\n",
      "Tipo Navegação                       0\n",
      "Natureza da Carga                    0\n",
      "Sentido                              0\n",
      "dtype: int64\n"
     ]
    }
   ],
   "source": [
    "# Contar o número de valores NaN em cada coluna\n",
    "contagem_nan_por_coluna = tratamento2.isna().sum()\n",
    "\n",
    "# Exibir a contagem de NaN por coluna\n",
    "print(\"Contagem de valores NaN por coluna:\")\n",
    "print(contagem_nan_por_coluna)"
   ]
  },
  {
   "cell_type": "code",
   "execution_count": 3,
   "id": "e1179f79",
   "metadata": {
    "execution": {
     "iopub.execute_input": "2024-05-04T00:46:17.719322Z",
     "iopub.status.busy": "2024-05-04T00:46:17.718557Z",
     "iopub.status.idle": "2024-05-04T00:46:17.761172Z",
     "shell.execute_reply": "2024-05-04T00:46:17.759873Z"
    },
    "papermill": {
     "duration": 0.053098,
     "end_time": "2024-05-04T00:46:17.763817",
     "exception": false,
     "start_time": "2024-05-04T00:46:17.710719",
     "status": "completed"
    },
    "tags": []
   },
   "outputs": [
    {
     "data": {
      "text/html": [
       "<div>\n",
       "<style scoped>\n",
       "    .dataframe tbody tr th:only-of-type {\n",
       "        vertical-align: middle;\n",
       "    }\n",
       "\n",
       "    .dataframe tbody tr th {\n",
       "        vertical-align: top;\n",
       "    }\n",
       "\n",
       "    .dataframe thead th {\n",
       "        text-align: right;\n",
       "    }\n",
       "</style>\n",
       "<table border=\"1\" class=\"dataframe\">\n",
       "  <thead>\n",
       "    <tr style=\"text-align: right;\">\n",
       "      <th></th>\n",
       "      <th>IDAtracacao</th>\n",
       "      <th>Tipo da Autoridade Portuária</th>\n",
       "      <th>Data Atracação</th>\n",
       "      <th>Data Chegada</th>\n",
       "      <th>Data Desatracação</th>\n",
       "      <th>Data Início Operação</th>\n",
       "      <th>Data Término Operação</th>\n",
       "      <th>Tipo de Operação</th>\n",
       "      <th>Tipo de Navegação da Atracação</th>\n",
       "      <th>Terminal</th>\n",
       "      <th>Município</th>\n",
       "      <th>UF</th>\n",
       "      <th>Origem</th>\n",
       "      <th>Destino</th>\n",
       "      <th>Tipo Operação da Carga</th>\n",
       "      <th>Tipo Navegação</th>\n",
       "      <th>Natureza da Carga</th>\n",
       "      <th>Sentido</th>\n",
       "    </tr>\n",
       "  </thead>\n",
       "  <tbody>\n",
       "    <tr>\n",
       "      <th>0</th>\n",
       "      <td>1337056</td>\n",
       "      <td>Porto Organizado</td>\n",
       "      <td>2023-04-14 07:00:00</td>\n",
       "      <td>2023-04-14 07:00:00</td>\n",
       "      <td>2023-04-18 21:00:00</td>\n",
       "      <td>2023-04-14 09:00:00</td>\n",
       "      <td>2023-04-18 19:00:00</td>\n",
       "      <td>Movimentação da Carga</td>\n",
       "      <td>Cabotagem</td>\n",
       "      <td>Cais Público 1 - Belém</td>\n",
       "      <td>Belém</td>\n",
       "      <td>Pará</td>\n",
       "      <td>BRBEL</td>\n",
       "      <td>BRBEL</td>\n",
       "      <td>Apoio</td>\n",
       "      <td>Apoio Portuário</td>\n",
       "      <td>Carga Geral</td>\n",
       "      <td>Embarcados</td>\n",
       "    </tr>\n",
       "    <tr>\n",
       "      <th>1</th>\n",
       "      <td>1315756</td>\n",
       "      <td>Porto Organizado</td>\n",
       "      <td>2023-02-16 19:30:00</td>\n",
       "      <td>2023-02-16 19:15:00</td>\n",
       "      <td>2023-02-22 01:00:00</td>\n",
       "      <td>2023-02-16 19:35:00</td>\n",
       "      <td>2023-02-21 23:30:00</td>\n",
       "      <td>Apoio</td>\n",
       "      <td>Cabotagem</td>\n",
       "      <td>Cais Público - Outeiro</td>\n",
       "      <td>Belém</td>\n",
       "      <td>Pará</td>\n",
       "      <td>BRVDC</td>\n",
       "      <td>BRBEL</td>\n",
       "      <td>Apoio</td>\n",
       "      <td>Interior</td>\n",
       "      <td>Carga Geral</td>\n",
       "      <td>Desembarcados</td>\n",
       "    </tr>\n",
       "    <tr>\n",
       "      <th>2</th>\n",
       "      <td>1329006</td>\n",
       "      <td>Porto Organizado</td>\n",
       "      <td>2023-03-18 10:30:00</td>\n",
       "      <td>2023-03-18 10:30:00</td>\n",
       "      <td>2023-03-24 13:00:00</td>\n",
       "      <td>2023-03-18 13:00:00</td>\n",
       "      <td>2023-03-24 11:00:00</td>\n",
       "      <td>Movimentação da Carga</td>\n",
       "      <td>Cabotagem</td>\n",
       "      <td>Cais Público 1 - Belém</td>\n",
       "      <td>Belém</td>\n",
       "      <td>Pará</td>\n",
       "      <td>BRBEL</td>\n",
       "      <td>BRMCP</td>\n",
       "      <td>Apoio</td>\n",
       "      <td>Interior</td>\n",
       "      <td>Carga Geral</td>\n",
       "      <td>Embarcados</td>\n",
       "    </tr>\n",
       "    <tr>\n",
       "      <th>3</th>\n",
       "      <td>1328942</td>\n",
       "      <td>Porto Organizado</td>\n",
       "      <td>2023-03-22 12:15:00</td>\n",
       "      <td>2023-03-22 12:15:00</td>\n",
       "      <td>2023-03-22 22:20:00</td>\n",
       "      <td>2023-03-22 13:00:00</td>\n",
       "      <td>2023-03-22 19:00:00</td>\n",
       "      <td>Movimentação da Carga</td>\n",
       "      <td>Cabotagem</td>\n",
       "      <td>Cais Público 1 - Belém</td>\n",
       "      <td>Belém</td>\n",
       "      <td>Pará</td>\n",
       "      <td>BRBEL</td>\n",
       "      <td>BRBEL</td>\n",
       "      <td>Apoio</td>\n",
       "      <td>Apoio Portuário</td>\n",
       "      <td>Carga Geral</td>\n",
       "      <td>Embarcados</td>\n",
       "    </tr>\n",
       "    <tr>\n",
       "      <th>4</th>\n",
       "      <td>1323792</td>\n",
       "      <td>Porto Organizado</td>\n",
       "      <td>2023-04-02 09:50:00</td>\n",
       "      <td>2023-04-02 09:50:00</td>\n",
       "      <td>2023-04-07 12:30:00</td>\n",
       "      <td>2023-04-02 10:00:00</td>\n",
       "      <td>2023-04-07 12:20:00</td>\n",
       "      <td>Movimentação da Carga</td>\n",
       "      <td>Cabotagem</td>\n",
       "      <td>Cais Público 1 - Belém</td>\n",
       "      <td>Belém</td>\n",
       "      <td>Pará</td>\n",
       "      <td>BRBEL</td>\n",
       "      <td>BRBEL</td>\n",
       "      <td>Apoio</td>\n",
       "      <td>Apoio Portuário</td>\n",
       "      <td>Carga Geral</td>\n",
       "      <td>Embarcados</td>\n",
       "    </tr>\n",
       "    <tr>\n",
       "      <th>...</th>\n",
       "      <td>...</td>\n",
       "      <td>...</td>\n",
       "      <td>...</td>\n",
       "      <td>...</td>\n",
       "      <td>...</td>\n",
       "      <td>...</td>\n",
       "      <td>...</td>\n",
       "      <td>...</td>\n",
       "      <td>...</td>\n",
       "      <td>...</td>\n",
       "      <td>...</td>\n",
       "      <td>...</td>\n",
       "      <td>...</td>\n",
       "      <td>...</td>\n",
       "      <td>...</td>\n",
       "      <td>...</td>\n",
       "      <td>...</td>\n",
       "      <td>...</td>\n",
       "    </tr>\n",
       "    <tr>\n",
       "      <th>76045</th>\n",
       "      <td>1404988</td>\n",
       "      <td>Terminal Autorizado</td>\n",
       "      <td>2023-12-09 14:00:00</td>\n",
       "      <td>2023-12-02 21:30:00</td>\n",
       "      <td>2023-12-13 08:15:00</td>\n",
       "      <td>2023-12-09 16:49:00</td>\n",
       "      <td>2023-12-13 04:31:00</td>\n",
       "      <td>Movimentação da Carga</td>\n",
       "      <td>Longo Curso</td>\n",
       "      <td>Terminal Portuário Cotegipe</td>\n",
       "      <td>Salvador</td>\n",
       "      <td>Bahia</td>\n",
       "      <td>BRBA007</td>\n",
       "      <td>CNNHK</td>\n",
       "      <td>Longo Curso Exportação</td>\n",
       "      <td>Longo Curso</td>\n",
       "      <td>Granel Sólido</td>\n",
       "      <td>Embarcados</td>\n",
       "    </tr>\n",
       "    <tr>\n",
       "      <th>76046</th>\n",
       "      <td>1405008</td>\n",
       "      <td>Terminal Autorizado</td>\n",
       "      <td>2023-11-30 11:48:00</td>\n",
       "      <td>2023-11-30 09:30:00</td>\n",
       "      <td>2023-12-04 16:10:00</td>\n",
       "      <td>2023-11-30 15:00:00</td>\n",
       "      <td>2023-12-04 01:20:00</td>\n",
       "      <td>Movimentação da Carga</td>\n",
       "      <td>Longo Curso</td>\n",
       "      <td>Porto do Açu - Terminal TMULT e TCAR</td>\n",
       "      <td>São João da Barra</td>\n",
       "      <td>Rio de Janeiro</td>\n",
       "      <td>BRRJ022</td>\n",
       "      <td>ESHUV</td>\n",
       "      <td>Longo Curso Exportação</td>\n",
       "      <td>Longo Curso</td>\n",
       "      <td>Granel Sólido</td>\n",
       "      <td>Embarcados</td>\n",
       "    </tr>\n",
       "    <tr>\n",
       "      <th>76047</th>\n",
       "      <td>1405064</td>\n",
       "      <td>Terminal Autorizado</td>\n",
       "      <td>2023-12-28 00:54:00</td>\n",
       "      <td>2023-12-25 17:54:00</td>\n",
       "      <td>2023-12-30 15:58:00</td>\n",
       "      <td>2023-12-28 04:00:00</td>\n",
       "      <td>2023-12-30 10:48:00</td>\n",
       "      <td>Movimentação da Carga</td>\n",
       "      <td>Longo Curso</td>\n",
       "      <td>Terminal Integrador Portuário Luiz Antonio Mes...</td>\n",
       "      <td>Santos</td>\n",
       "      <td>São Paulo</td>\n",
       "      <td>BRSP001</td>\n",
       "      <td>MYPRA</td>\n",
       "      <td>Longo Curso Exportação</td>\n",
       "      <td>Longo Curso</td>\n",
       "      <td>Granel Sólido</td>\n",
       "      <td>Embarcados</td>\n",
       "    </tr>\n",
       "    <tr>\n",
       "      <th>76048</th>\n",
       "      <td>1405081</td>\n",
       "      <td>Terminal Autorizado</td>\n",
       "      <td>2023-11-16 16:30:00</td>\n",
       "      <td>2023-11-15 02:25:00</td>\n",
       "      <td>2023-11-30 19:17:00</td>\n",
       "      <td>2023-11-17 00:49:00</td>\n",
       "      <td>2023-11-30 16:17:00</td>\n",
       "      <td>Movimentação da Carga</td>\n",
       "      <td>Longo Curso</td>\n",
       "      <td>Terminal Marítimo Privativo de Cubatão - TMPC</td>\n",
       "      <td>Cubatão</td>\n",
       "      <td>São Paulo</td>\n",
       "      <td>RULED</td>\n",
       "      <td>BRSP002</td>\n",
       "      <td>Longo Curso Importação</td>\n",
       "      <td>Longo Curso</td>\n",
       "      <td>Carga Geral</td>\n",
       "      <td>Desembarcados</td>\n",
       "    </tr>\n",
       "    <tr>\n",
       "      <th>76049</th>\n",
       "      <td>1405097</td>\n",
       "      <td>Porto Organizado</td>\n",
       "      <td>2023-11-15 10:58:00</td>\n",
       "      <td>2023-11-15 02:00:00</td>\n",
       "      <td>2023-11-16 09:58:00</td>\n",
       "      <td>2023-11-15 14:34:00</td>\n",
       "      <td>2023-11-16 08:20:00</td>\n",
       "      <td>Movimentação da Carga</td>\n",
       "      <td>Longo Curso</td>\n",
       "      <td>Piers Públicos TGL</td>\n",
       "      <td>Barcarena</td>\n",
       "      <td>Pará</td>\n",
       "      <td>RUPRI</td>\n",
       "      <td>BRVDC</td>\n",
       "      <td>Longo Curso Importação</td>\n",
       "      <td>Longo Curso</td>\n",
       "      <td>Granel Líquido e Gasoso</td>\n",
       "      <td>Desembarcados</td>\n",
       "    </tr>\n",
       "  </tbody>\n",
       "</table>\n",
       "<p>76050 rows × 18 columns</p>\n",
       "</div>"
      ],
      "text/plain": [
       "       IDAtracacao Tipo da Autoridade Portuária       Data Atracação  \\\n",
       "0          1337056             Porto Organizado  2023-04-14 07:00:00   \n",
       "1          1315756             Porto Organizado  2023-02-16 19:30:00   \n",
       "2          1329006             Porto Organizado  2023-03-18 10:30:00   \n",
       "3          1328942             Porto Organizado  2023-03-22 12:15:00   \n",
       "4          1323792             Porto Organizado  2023-04-02 09:50:00   \n",
       "...            ...                          ...                  ...   \n",
       "76045      1404988          Terminal Autorizado  2023-12-09 14:00:00   \n",
       "76046      1405008          Terminal Autorizado  2023-11-30 11:48:00   \n",
       "76047      1405064          Terminal Autorizado  2023-12-28 00:54:00   \n",
       "76048      1405081          Terminal Autorizado  2023-11-16 16:30:00   \n",
       "76049      1405097             Porto Organizado  2023-11-15 10:58:00   \n",
       "\n",
       "              Data Chegada    Data Desatracação Data Início Operação  \\\n",
       "0      2023-04-14 07:00:00  2023-04-18 21:00:00  2023-04-14 09:00:00   \n",
       "1      2023-02-16 19:15:00  2023-02-22 01:00:00  2023-02-16 19:35:00   \n",
       "2      2023-03-18 10:30:00  2023-03-24 13:00:00  2023-03-18 13:00:00   \n",
       "3      2023-03-22 12:15:00  2023-03-22 22:20:00  2023-03-22 13:00:00   \n",
       "4      2023-04-02 09:50:00  2023-04-07 12:30:00  2023-04-02 10:00:00   \n",
       "...                    ...                  ...                  ...   \n",
       "76045  2023-12-02 21:30:00  2023-12-13 08:15:00  2023-12-09 16:49:00   \n",
       "76046  2023-11-30 09:30:00  2023-12-04 16:10:00  2023-11-30 15:00:00   \n",
       "76047  2023-12-25 17:54:00  2023-12-30 15:58:00  2023-12-28 04:00:00   \n",
       "76048  2023-11-15 02:25:00  2023-11-30 19:17:00  2023-11-17 00:49:00   \n",
       "76049  2023-11-15 02:00:00  2023-11-16 09:58:00  2023-11-15 14:34:00   \n",
       "\n",
       "      Data Término Operação       Tipo de Operação  \\\n",
       "0       2023-04-18 19:00:00  Movimentação da Carga   \n",
       "1       2023-02-21 23:30:00                  Apoio   \n",
       "2       2023-03-24 11:00:00  Movimentação da Carga   \n",
       "3       2023-03-22 19:00:00  Movimentação da Carga   \n",
       "4       2023-04-07 12:20:00  Movimentação da Carga   \n",
       "...                     ...                    ...   \n",
       "76045   2023-12-13 04:31:00  Movimentação da Carga   \n",
       "76046   2023-12-04 01:20:00  Movimentação da Carga   \n",
       "76047   2023-12-30 10:48:00  Movimentação da Carga   \n",
       "76048   2023-11-30 16:17:00  Movimentação da Carga   \n",
       "76049   2023-11-16 08:20:00  Movimentação da Carga   \n",
       "\n",
       "      Tipo de Navegação da Atracação  \\\n",
       "0                          Cabotagem   \n",
       "1                          Cabotagem   \n",
       "2                          Cabotagem   \n",
       "3                          Cabotagem   \n",
       "4                          Cabotagem   \n",
       "...                              ...   \n",
       "76045                    Longo Curso   \n",
       "76046                    Longo Curso   \n",
       "76047                    Longo Curso   \n",
       "76048                    Longo Curso   \n",
       "76049                    Longo Curso   \n",
       "\n",
       "                                                Terminal          Município  \\\n",
       "0                                 Cais Público 1 - Belém              Belém   \n",
       "1                                 Cais Público - Outeiro              Belém   \n",
       "2                                 Cais Público 1 - Belém              Belém   \n",
       "3                                 Cais Público 1 - Belém              Belém   \n",
       "4                                 Cais Público 1 - Belém              Belém   \n",
       "...                                                  ...                ...   \n",
       "76045                        Terminal Portuário Cotegipe           Salvador   \n",
       "76046               Porto do Açu - Terminal TMULT e TCAR  São João da Barra   \n",
       "76047  Terminal Integrador Portuário Luiz Antonio Mes...             Santos   \n",
       "76048      Terminal Marítimo Privativo de Cubatão - TMPC            Cubatão   \n",
       "76049                                 Piers Públicos TGL          Barcarena   \n",
       "\n",
       "                   UF   Origem  Destino  Tipo Operação da Carga  \\\n",
       "0                Pará    BRBEL    BRBEL                   Apoio   \n",
       "1                Pará    BRVDC    BRBEL                   Apoio   \n",
       "2                Pará    BRBEL    BRMCP                   Apoio   \n",
       "3                Pará    BRBEL    BRBEL                   Apoio   \n",
       "4                Pará    BRBEL    BRBEL                   Apoio   \n",
       "...               ...      ...      ...                     ...   \n",
       "76045           Bahia  BRBA007    CNNHK  Longo Curso Exportação   \n",
       "76046  Rio de Janeiro  BRRJ022    ESHUV  Longo Curso Exportação   \n",
       "76047       São Paulo  BRSP001    MYPRA  Longo Curso Exportação   \n",
       "76048       São Paulo    RULED  BRSP002  Longo Curso Importação   \n",
       "76049            Pará    RUPRI    BRVDC  Longo Curso Importação   \n",
       "\n",
       "        Tipo Navegação        Natureza da Carga        Sentido  \n",
       "0      Apoio Portuário              Carga Geral     Embarcados  \n",
       "1             Interior              Carga Geral  Desembarcados  \n",
       "2             Interior              Carga Geral     Embarcados  \n",
       "3      Apoio Portuário              Carga Geral     Embarcados  \n",
       "4      Apoio Portuário              Carga Geral     Embarcados  \n",
       "...                ...                      ...            ...  \n",
       "76045      Longo Curso            Granel Sólido     Embarcados  \n",
       "76046      Longo Curso            Granel Sólido     Embarcados  \n",
       "76047      Longo Curso            Granel Sólido     Embarcados  \n",
       "76048      Longo Curso              Carga Geral  Desembarcados  \n",
       "76049      Longo Curso  Granel Líquido e Gasoso  Desembarcados  \n",
       "\n",
       "[76050 rows x 18 columns]"
      ]
     },
     "metadata": {},
     "output_type": "display_data"
    }
   ],
   "source": [
    "display(tratamento2)"
   ]
  },
  {
   "cell_type": "code",
   "execution_count": 4,
   "id": "1ea39fd5",
   "metadata": {
    "execution": {
     "iopub.execute_input": "2024-05-04T00:46:17.779803Z",
     "iopub.status.busy": "2024-05-04T00:46:17.779374Z",
     "iopub.status.idle": "2024-05-04T00:46:17.954502Z",
     "shell.execute_reply": "2024-05-04T00:46:17.953459Z"
    },
    "papermill": {
     "duration": 0.186612,
     "end_time": "2024-05-04T00:46:17.957344",
     "exception": false,
     "start_time": "2024-05-04T00:46:17.770732",
     "status": "completed"
    },
    "tags": []
   },
   "outputs": [],
   "source": [
    "colunas_data =['Data Atracação', 'Data Chegada', 'Data Desatracação', 'Data Início Operação', 'Data Término Operação']\n",
    "\n",
    "for coluna in colunas_data:\n",
    "    tratamento2[coluna] = pd.to_datetime(tratamento2[coluna])"
   ]
  },
  {
   "cell_type": "code",
   "execution_count": 5,
   "id": "ff280584",
   "metadata": {
    "execution": {
     "iopub.execute_input": "2024-05-04T00:46:17.973969Z",
     "iopub.status.busy": "2024-05-04T00:46:17.973411Z",
     "iopub.status.idle": "2024-05-04T00:46:18.095224Z",
     "shell.execute_reply": "2024-05-04T00:46:18.094048Z"
    },
    "papermill": {
     "duration": 0.132952,
     "end_time": "2024-05-04T00:46:18.097899",
     "exception": false,
     "start_time": "2024-05-04T00:46:17.964947",
     "status": "completed"
    },
    "tags": []
   },
   "outputs": [
    {
     "name": "stdout",
     "output_type": "stream",
     "text": [
      "<class 'pandas.core.frame.DataFrame'>\n",
      "RangeIndex: 76050 entries, 0 to 76049\n",
      "Data columns (total 18 columns):\n",
      " #   Column                          Non-Null Count  Dtype         \n",
      "---  ------                          --------------  -----         \n",
      " 0   IDAtracacao                     76050 non-null  int64         \n",
      " 1   Tipo da Autoridade Portuária    76050 non-null  object        \n",
      " 2   Data Atracação                  76050 non-null  datetime64[ns]\n",
      " 3   Data Chegada                    76050 non-null  datetime64[ns]\n",
      " 4   Data Desatracação               76050 non-null  datetime64[ns]\n",
      " 5   Data Início Operação            76049 non-null  datetime64[ns]\n",
      " 6   Data Término Operação           76048 non-null  datetime64[ns]\n",
      " 7   Tipo de Operação                76050 non-null  object        \n",
      " 8   Tipo de Navegação da Atracação  76050 non-null  object        \n",
      " 9   Terminal                        76050 non-null  object        \n",
      " 10  Município                       76050 non-null  object        \n",
      " 11  UF                              76050 non-null  object        \n",
      " 12  Origem                          74300 non-null  object        \n",
      " 13  Destino                         74300 non-null  object        \n",
      " 14  Tipo Operação da Carga          76050 non-null  object        \n",
      " 15  Tipo Navegação                  76050 non-null  object        \n",
      " 16  Natureza da Carga               76050 non-null  object        \n",
      " 17  Sentido                         76050 non-null  object        \n",
      "dtypes: datetime64[ns](5), int64(1), object(12)\n",
      "memory usage: 10.4+ MB\n",
      "None\n"
     ]
    }
   ],
   "source": [
    "print(tratamento2.info())"
   ]
  },
  {
   "cell_type": "markdown",
   "id": "48a4458d",
   "metadata": {
    "papermill": {
     "duration": 0.007081,
     "end_time": "2024-05-04T00:46:18.112142",
     "exception": false,
     "start_time": "2024-05-04T00:46:18.105061",
     "status": "completed"
    },
    "tags": []
   },
   "source": [
    "# INICIO TRATAMENTO DATA ATRACAÇÂO\n",
    "Colunas arrumadas: Data Chegada"
   ]
  },
  {
   "cell_type": "code",
   "execution_count": 6,
   "id": "075f3d1c",
   "metadata": {
    "execution": {
     "iopub.execute_input": "2024-05-04T00:46:18.128547Z",
     "iopub.status.busy": "2024-05-04T00:46:18.128090Z",
     "iopub.status.idle": "2024-05-04T00:46:18.141062Z",
     "shell.execute_reply": "2024-05-04T00:46:18.139850Z"
    },
    "papermill": {
     "duration": 0.024363,
     "end_time": "2024-05-04T00:46:18.143690",
     "exception": false,
     "start_time": "2024-05-04T00:46:18.119327",
     "status": "completed"
    },
    "tags": []
   },
   "outputs": [
    {
     "name": "stdout",
     "output_type": "stream",
     "text": [
      "Anos únicos na coluna 'Data Atracação': Index([2023, 2021], dtype='int32', name='Data Atracação')\n"
     ]
    }
   ],
   "source": [
    "\n",
    "Ano_coluna = 'Data Atracação'\n",
    "anos_unicos = pd.DatetimeIndex(tratamento2[Ano_coluna]).year.unique()\n",
    "print(f\"Anos únicos na coluna '{Ano_coluna}': {anos_unicos}\")"
   ]
  },
  {
   "cell_type": "code",
   "execution_count": 7,
   "id": "69ab7f52",
   "metadata": {
    "execution": {
     "iopub.execute_input": "2024-05-04T00:46:18.159854Z",
     "iopub.status.busy": "2024-05-04T00:46:18.159443Z",
     "iopub.status.idle": "2024-05-04T00:46:18.183932Z",
     "shell.execute_reply": "2024-05-04T00:46:18.183095Z"
    },
    "papermill": {
     "duration": 0.035271,
     "end_time": "2024-05-04T00:46:18.186127",
     "exception": false,
     "start_time": "2024-05-04T00:46:18.150856",
     "status": "completed"
    },
    "tags": []
   },
   "outputs": [
    {
     "data": {
      "text/html": [
       "<div>\n",
       "<style scoped>\n",
       "    .dataframe tbody tr th:only-of-type {\n",
       "        vertical-align: middle;\n",
       "    }\n",
       "\n",
       "    .dataframe tbody tr th {\n",
       "        vertical-align: top;\n",
       "    }\n",
       "\n",
       "    .dataframe thead th {\n",
       "        text-align: right;\n",
       "    }\n",
       "</style>\n",
       "<table border=\"1\" class=\"dataframe\">\n",
       "  <thead>\n",
       "    <tr style=\"text-align: right;\">\n",
       "      <th></th>\n",
       "      <th>IDAtracacao</th>\n",
       "      <th>Tipo da Autoridade Portuária</th>\n",
       "      <th>Data Atracação</th>\n",
       "      <th>Data Chegada</th>\n",
       "      <th>Data Desatracação</th>\n",
       "      <th>Data Início Operação</th>\n",
       "      <th>Data Término Operação</th>\n",
       "      <th>Tipo de Operação</th>\n",
       "      <th>Tipo de Navegação da Atracação</th>\n",
       "      <th>Terminal</th>\n",
       "      <th>Município</th>\n",
       "      <th>UF</th>\n",
       "      <th>Origem</th>\n",
       "      <th>Destino</th>\n",
       "      <th>Tipo Operação da Carga</th>\n",
       "      <th>Tipo Navegação</th>\n",
       "      <th>Natureza da Carga</th>\n",
       "      <th>Sentido</th>\n",
       "    </tr>\n",
       "  </thead>\n",
       "  <tbody>\n",
       "    <tr>\n",
       "      <th>33183</th>\n",
       "      <td>1343802</td>\n",
       "      <td>Porto Organizado</td>\n",
       "      <td>2021-05-04 16:18:00</td>\n",
       "      <td>2023-05-04 16:18:00</td>\n",
       "      <td>2023-05-11 15:00:00</td>\n",
       "      <td>2023-05-04 16:30:00</td>\n",
       "      <td>2023-05-11 14:50:00</td>\n",
       "      <td>Movimentação da Carga</td>\n",
       "      <td>Interior</td>\n",
       "      <td>T01 - Fogás</td>\n",
       "      <td>Santarém</td>\n",
       "      <td>Pará</td>\n",
       "      <td>BRMAO</td>\n",
       "      <td>BRSTM</td>\n",
       "      <td>Interior</td>\n",
       "      <td>Interior</td>\n",
       "      <td>Granel Líquido e Gasoso</td>\n",
       "      <td>Desembarcados</td>\n",
       "    </tr>\n",
       "  </tbody>\n",
       "</table>\n",
       "</div>"
      ],
      "text/plain": [
       "       IDAtracacao Tipo da Autoridade Portuária      Data Atracação  \\\n",
       "33183      1343802             Porto Organizado 2021-05-04 16:18:00   \n",
       "\n",
       "             Data Chegada   Data Desatracação Data Início Operação  \\\n",
       "33183 2023-05-04 16:18:00 2023-05-11 15:00:00  2023-05-04 16:30:00   \n",
       "\n",
       "      Data Término Operação       Tipo de Operação  \\\n",
       "33183   2023-05-11 14:50:00  Movimentação da Carga   \n",
       "\n",
       "      Tipo de Navegação da Atracação     Terminal Município    UF Origem  \\\n",
       "33183                       Interior  T01 - Fogás  Santarém  Pará  BRMAO   \n",
       "\n",
       "      Destino Tipo Operação da Carga Tipo Navegação        Natureza da Carga  \\\n",
       "33183   BRSTM               Interior       Interior  Granel Líquido e Gasoso   \n",
       "\n",
       "             Sentido  \n",
       "33183  Desembarcados  "
      ]
     },
     "metadata": {},
     "output_type": "display_data"
    }
   ],
   "source": [
    "import pandas as pd\n",
    "\n",
    "\n",
    "# Filtrar as linhas onde o ano é menor que 2023.\n",
    "menor_23 = tratamento2[(tratamento2['Data Atracação'].dt.year < 2023)]\n",
    "\n",
    "# Exibindo as linhas filtradas\n",
    "display(menor_23)"
   ]
  },
  {
   "cell_type": "code",
   "execution_count": 8,
   "id": "5e9a6912",
   "metadata": {
    "execution": {
     "iopub.execute_input": "2024-05-04T00:46:18.203291Z",
     "iopub.status.busy": "2024-05-04T00:46:18.202690Z",
     "iopub.status.idle": "2024-05-04T00:46:18.213154Z",
     "shell.execute_reply": "2024-05-04T00:46:18.211759Z"
    },
    "papermill": {
     "duration": 0.022308,
     "end_time": "2024-05-04T00:46:18.215817",
     "exception": false,
     "start_time": "2024-05-04T00:46:18.193509",
     "status": "completed"
    },
    "tags": []
   },
   "outputs": [],
   "source": [
    "tratamento2.loc[menor_23.index, 'Data Atracação'] = tratamento2.loc[menor_23.index, 'Data Atracação'].apply(lambda x: x.replace(year=2023))"
   ]
  },
  {
   "cell_type": "code",
   "execution_count": 9,
   "id": "a6284aa5",
   "metadata": {
    "execution": {
     "iopub.execute_input": "2024-05-04T00:46:18.232777Z",
     "iopub.status.busy": "2024-05-04T00:46:18.232336Z",
     "iopub.status.idle": "2024-05-04T00:46:18.253372Z",
     "shell.execute_reply": "2024-05-04T00:46:18.252299Z"
    },
    "papermill": {
     "duration": 0.032299,
     "end_time": "2024-05-04T00:46:18.255818",
     "exception": false,
     "start_time": "2024-05-04T00:46:18.223519",
     "status": "completed"
    },
    "tags": []
   },
   "outputs": [
    {
     "data": {
      "text/html": [
       "<div>\n",
       "<style scoped>\n",
       "    .dataframe tbody tr th:only-of-type {\n",
       "        vertical-align: middle;\n",
       "    }\n",
       "\n",
       "    .dataframe tbody tr th {\n",
       "        vertical-align: top;\n",
       "    }\n",
       "\n",
       "    .dataframe thead th {\n",
       "        text-align: right;\n",
       "    }\n",
       "</style>\n",
       "<table border=\"1\" class=\"dataframe\">\n",
       "  <thead>\n",
       "    <tr style=\"text-align: right;\">\n",
       "      <th></th>\n",
       "      <th>IDAtracacao</th>\n",
       "      <th>Tipo da Autoridade Portuária</th>\n",
       "      <th>Data Atracação</th>\n",
       "      <th>Data Chegada</th>\n",
       "      <th>Data Desatracação</th>\n",
       "      <th>Data Início Operação</th>\n",
       "      <th>Data Término Operação</th>\n",
       "      <th>Tipo de Operação</th>\n",
       "      <th>Tipo de Navegação da Atracação</th>\n",
       "      <th>Terminal</th>\n",
       "      <th>Município</th>\n",
       "      <th>UF</th>\n",
       "      <th>Origem</th>\n",
       "      <th>Destino</th>\n",
       "      <th>Tipo Operação da Carga</th>\n",
       "      <th>Tipo Navegação</th>\n",
       "      <th>Natureza da Carga</th>\n",
       "      <th>Sentido</th>\n",
       "    </tr>\n",
       "  </thead>\n",
       "  <tbody>\n",
       "  </tbody>\n",
       "</table>\n",
       "</div>"
      ],
      "text/plain": [
       "Empty DataFrame\n",
       "Columns: [IDAtracacao, Tipo da Autoridade Portuária, Data Atracação, Data Chegada, Data Desatracação, Data Início Operação, Data Término Operação, Tipo de Operação, Tipo de Navegação da Atracação, Terminal, Município, UF, Origem, Destino, Tipo Operação da Carga, Tipo Navegação, Natureza da Carga, Sentido]\n",
       "Index: []"
      ]
     },
     "metadata": {},
     "output_type": "display_data"
    },
    {
     "data": {
      "text/plain": [
       "0"
      ]
     },
     "execution_count": 9,
     "metadata": {},
     "output_type": "execute_result"
    }
   ],
   "source": [
    "import pandas as pd\n",
    "\n",
    "\n",
    "# Filtrar as linhas onde o ano é menor que 2023.\n",
    "menor_23 = tratamento2[(tratamento2['Data Atracação'].dt.year < 2023)]\n",
    "\n",
    "# Exibindo as linhas filtradas\n",
    "display(menor_23)\n",
    "len(menor_23)"
   ]
  },
  {
   "cell_type": "code",
   "execution_count": 10,
   "id": "b1b384f9",
   "metadata": {
    "execution": {
     "iopub.execute_input": "2024-05-04T00:46:18.273940Z",
     "iopub.status.busy": "2024-05-04T00:46:18.273558Z",
     "iopub.status.idle": "2024-05-04T00:46:18.277424Z",
     "shell.execute_reply": "2024-05-04T00:46:18.276728Z"
    },
    "papermill": {
     "duration": 0.015615,
     "end_time": "2024-05-04T00:46:18.279601",
     "exception": false,
     "start_time": "2024-05-04T00:46:18.263986",
     "status": "completed"
    },
    "tags": []
   },
   "outputs": [],
   "source": [
    "#DataDesatracação nao precisa de tratamento pelo menos no ano"
   ]
  },
  {
   "cell_type": "markdown",
   "id": "1bf4c978",
   "metadata": {
    "papermill": {
     "duration": 0.007538,
     "end_time": "2024-05-04T00:46:18.295119",
     "exception": false,
     "start_time": "2024-05-04T00:46:18.287581",
     "status": "completed"
    },
    "tags": []
   },
   "source": [
    "# INICIO TRATAMENTO DATA INÍCIO OPERAÇÃO\n",
    "Colunas arrumadas: Dt Chegada, Dt Atracação, Dt Desatracação"
   ]
  },
  {
   "cell_type": "code",
   "execution_count": 11,
   "id": "283e83c2",
   "metadata": {
    "execution": {
     "iopub.execute_input": "2024-05-04T00:46:18.314204Z",
     "iopub.status.busy": "2024-05-04T00:46:18.313524Z",
     "iopub.status.idle": "2024-05-04T00:46:18.327032Z",
     "shell.execute_reply": "2024-05-04T00:46:18.325858Z"
    },
    "papermill": {
     "duration": 0.026729,
     "end_time": "2024-05-04T00:46:18.329764",
     "exception": false,
     "start_time": "2024-05-04T00:46:18.303035",
     "status": "completed"
    },
    "tags": []
   },
   "outputs": [
    {
     "name": "stdout",
     "output_type": "stream",
     "text": [
      "Anos únicos na coluna 'Data Início Operação': Index([2023.0, nan], dtype='float64', name='Data Início Operação')\n"
     ]
    }
   ],
   "source": [
    "Ano_coluna = 'Data Início Operação'\n",
    "anos_unicos = pd.DatetimeIndex(tratamento2[Ano_coluna]).year.unique()\n",
    "print(f\"Anos únicos na coluna '{Ano_coluna}': {anos_unicos}\")"
   ]
  },
  {
   "cell_type": "code",
   "execution_count": 12,
   "id": "f7ff4a0b",
   "metadata": {
    "execution": {
     "iopub.execute_input": "2024-05-04T00:46:18.347850Z",
     "iopub.status.busy": "2024-05-04T00:46:18.347437Z",
     "iopub.status.idle": "2024-05-04T00:46:18.389620Z",
     "shell.execute_reply": "2024-05-04T00:46:18.388333Z"
    },
    "papermill": {
     "duration": 0.05479,
     "end_time": "2024-05-04T00:46:18.392621",
     "exception": false,
     "start_time": "2024-05-04T00:46:18.337831",
     "status": "completed"
    },
    "tags": []
   },
   "outputs": [],
   "source": [
    "tratamento2.dropna(subset=['Data Início Operação'], inplace=True)"
   ]
  },
  {
   "cell_type": "code",
   "execution_count": 13,
   "id": "96f0070b",
   "metadata": {
    "execution": {
     "iopub.execute_input": "2024-05-04T00:46:18.410875Z",
     "iopub.status.busy": "2024-05-04T00:46:18.410482Z",
     "iopub.status.idle": "2024-05-04T00:46:18.427358Z",
     "shell.execute_reply": "2024-05-04T00:46:18.426191Z"
    },
    "papermill": {
     "duration": 0.029083,
     "end_time": "2024-05-04T00:46:18.429915",
     "exception": false,
     "start_time": "2024-05-04T00:46:18.400832",
     "status": "completed"
    },
    "tags": []
   },
   "outputs": [
    {
     "data": {
      "text/html": [
       "<div>\n",
       "<style scoped>\n",
       "    .dataframe tbody tr th:only-of-type {\n",
       "        vertical-align: middle;\n",
       "    }\n",
       "\n",
       "    .dataframe tbody tr th {\n",
       "        vertical-align: top;\n",
       "    }\n",
       "\n",
       "    .dataframe thead th {\n",
       "        text-align: right;\n",
       "    }\n",
       "</style>\n",
       "<table border=\"1\" class=\"dataframe\">\n",
       "  <thead>\n",
       "    <tr style=\"text-align: right;\">\n",
       "      <th></th>\n",
       "      <th>IDAtracacao</th>\n",
       "      <th>Tipo da Autoridade Portuária</th>\n",
       "      <th>Data Atracação</th>\n",
       "      <th>Data Chegada</th>\n",
       "      <th>Data Desatracação</th>\n",
       "      <th>Data Início Operação</th>\n",
       "      <th>Data Término Operação</th>\n",
       "      <th>Tipo de Operação</th>\n",
       "      <th>Tipo de Navegação da Atracação</th>\n",
       "      <th>Terminal</th>\n",
       "      <th>Município</th>\n",
       "      <th>UF</th>\n",
       "      <th>Origem</th>\n",
       "      <th>Destino</th>\n",
       "      <th>Tipo Operação da Carga</th>\n",
       "      <th>Tipo Navegação</th>\n",
       "      <th>Natureza da Carga</th>\n",
       "      <th>Sentido</th>\n",
       "    </tr>\n",
       "  </thead>\n",
       "  <tbody>\n",
       "  </tbody>\n",
       "</table>\n",
       "</div>"
      ],
      "text/plain": [
       "Empty DataFrame\n",
       "Columns: [IDAtracacao, Tipo da Autoridade Portuária, Data Atracação, Data Chegada, Data Desatracação, Data Início Operação, Data Término Operação, Tipo de Operação, Tipo de Navegação da Atracação, Terminal, Município, UF, Origem, Destino, Tipo Operação da Carga, Tipo Navegação, Natureza da Carga, Sentido]\n",
       "Index: []"
      ]
     },
     "metadata": {},
     "output_type": "display_data"
    },
    {
     "data": {
      "text/plain": [
       "0"
      ]
     },
     "execution_count": 13,
     "metadata": {},
     "output_type": "execute_result"
    }
   ],
   "source": [
    "# Supondo que você já tenha carregado e processado seu DataFrame, vamos chamá-lo de df_clean\n",
    "\n",
    "# Filtrar as linhas onde a coluna 'Data Início Operação' é nula\n",
    "linhas_com_nulo = tratamento2[tratamento2['Data Início Operação'].isnull()]\n",
    "\n",
    "# Exibir as linhas com valores nulos na coluna 'Data Início Operação'\n",
    "display(linhas_com_nulo)\n",
    "len(linhas_com_nulo)"
   ]
  },
  {
   "cell_type": "markdown",
   "id": "c11d8545",
   "metadata": {
    "papermill": {
     "duration": 0.008391,
     "end_time": "2024-05-04T00:46:18.446880",
     "exception": false,
     "start_time": "2024-05-04T00:46:18.438489",
     "status": "completed"
    },
    "tags": []
   },
   "source": [
    "# INICIO TRATAMENTO DATA TÉRMINO DA OPERAÇÂO \n",
    "Colunas arrumadas: Dt Chegada, Dt Atracação, Dt Desatracação, Dt Início Operação"
   ]
  },
  {
   "cell_type": "code",
   "execution_count": null,
   "id": "48efd7a3",
   "metadata": {
    "papermill": {
     "duration": 0.008152,
     "end_time": "2024-05-04T00:46:18.463513",
     "exception": false,
     "start_time": "2024-05-04T00:46:18.455361",
     "status": "completed"
    },
    "tags": []
   },
   "outputs": [],
   "source": []
  }
 ],
 "metadata": {
  "kaggle": {
   "accelerator": "none",
   "dataSources": [
    {
     "datasetId": 4934254,
     "sourceId": 8306575,
     "sourceType": "datasetVersion"
    }
   ],
   "dockerImageVersionId": 30698,
   "isGpuEnabled": false,
   "isInternetEnabled": true,
   "language": "python",
   "sourceType": "notebook"
  },
  "kernelspec": {
   "display_name": "Python 3",
   "language": "python",
   "name": "python3"
  },
  "language_info": {
   "codemirror_mode": {
    "name": "ipython",
    "version": 3
   },
   "file_extension": ".py",
   "mimetype": "text/x-python",
   "name": "python",
   "nbconvert_exporter": "python",
   "pygments_lexer": "ipython3",
   "version": "3.10.13"
  },
  "papermill": {
   "default_parameters": {},
   "duration": 6.671211,
   "end_time": "2024-05-04T00:46:19.094570",
   "environment_variables": {},
   "exception": null,
   "input_path": "__notebook__.ipynb",
   "output_path": "__notebook__.ipynb",
   "parameters": {},
   "start_time": "2024-05-04T00:46:12.423359",
   "version": "2.5.0"
  }
 },
 "nbformat": 4,
 "nbformat_minor": 5
}
